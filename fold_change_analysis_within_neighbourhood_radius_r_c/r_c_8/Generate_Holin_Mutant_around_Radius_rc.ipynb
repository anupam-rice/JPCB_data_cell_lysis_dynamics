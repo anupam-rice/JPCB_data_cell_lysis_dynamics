{
 "cells": [
  {
   "cell_type": "code",
   "execution_count": 1,
   "id": "d6316d30-0948-40a0-9c9a-bcdff776f393",
   "metadata": {},
   "outputs": [
    {
     "name": "stdout",
     "output_type": "stream",
     "text": [
      "1.25.2\n",
      "2.0.3\n",
      "3.11.4 (main, Jul  5 2023, 13:45:01) [GCC 11.2.0]\n"
     ]
    },
    {
     "name": "stderr",
     "output_type": "stream",
     "text": [
      "/home/am275/.conda/envs/Jupyter-notebook/lib/python3.11/site-packages/outdated/utils.py:14: OutdatedPackageWarning: The package pingouin is out of date. Your version is 0.5.3, the latest is 0.5.4.\n",
      "Set the environment variable OUTDATED_IGNORE=1 to disable these warnings.\n",
      "  return warn(\n"
     ]
    }
   ],
   "source": [
    "import re\n",
    "import numpy as np\n",
    "import pandas as pd\n",
    "import seaborn as sns\n",
    "from sklearn import datasets\n",
    "from sklearn import svm\n",
    "import matplotlib.pyplot as plt\n",
    "sns.set_style('whitegrid')\n",
    "print(np.__version__)\n",
    "print(pd.__version__)\n",
    "import sys\n",
    "print(sys.version)\n",
    "import sklearn\n",
    "import pingouin as pg\n",
    "import import_ipynb\n",
    "from scipy.stats import ks_2samp\n",
    "from statsmodels.stats.weightstats import ztest as ztest"
   ]
  },
  {
   "cell_type": "markdown",
   "id": "e3c69328",
   "metadata": {},
   "source": [
    "# Generate Holin Mutants Around the Neighbourhood of Radius $r_c=8$ of a Mutation Position"
   ]
  },
  {
   "cell_type": "code",
   "execution_count": 2,
   "id": "508d996f",
   "metadata": {},
   "outputs": [
    {
     "name": "stdout",
     "output_type": "stream",
     "text": [
      ">JJD246\n",
      "MKMPEKDDLLAAILA\n",
      ">JJD248\n",
      "SIGSLIKRCAAKKAGVE\n",
      ">JJD251\n",
      "IKRFAAKKVGVEDGRNQ\n",
      ">JJD253\n",
      "KMPEKHDLMAAILAAKE\n",
      ">JJD404\n",
      "ILAAKEQGVGAILAFAM\n",
      ">JJD405\n",
      "NGGAFTKTGIDATMCAI\n",
      ">JJD411\n",
      "VFIGYIGTGSIGSLIKR\n",
      ">JJD413\n",
      "IGYIGTDSLGSLIKRFA\n",
      ">JJD414\n",
      "IGTDSIGSIIKRFAAKK\n",
      ">JJD415\n",
      "GTDSIGSLTKRFAAKKA\n",
      ">JJD426\n",
      "AYLRGRYNSGAFTKTVI\n",
      ">JJD428\n",
      "YLRGRYNGSAFTKTVID\n",
      ">JJD432\n",
      "YIGTDSIGWLIKRFAAK\n",
      ">JJD434\n",
      "MKMPEKHGLLAAILAA\n",
      ">JJD436\n",
      "TDSIGSLINRFAAKKAG\n"
     ]
    }
   ],
   "source": [
    "import re\n",
    "\n",
    "AA_dict = {'Non_polar': ['G', 'A', 'V', 'C', 'W'],\n",
    "           'Polar': ['S', 'T', 'Y', 'N', 'Q'],\n",
    "           'Charged': ['K', 'R', 'H', 'D', 'E']}\n",
    "\n",
    "def generate_holin_mutants(wt_seq, mutant, radius, mutant_dict):\n",
    "    # Extract the position and convert it to an integer\n",
    "    numbers = re.findall(r'\\d+', mutant)\n",
    "    position = int(numbers[0]) if numbers else None\n",
    "\n",
    "    if position is None or position < 1 or position > len(wt_seq):\n",
    "        print(\"Invalid mutation position.\")\n",
    "        return\n",
    "\n",
    "    # Map the mutant name according to the provided dictionary\n",
    "    mapped_mutant = mutant_dict.get(mutant, mutant)\n",
    "\n",
    "    # Print the wild-type sequence around the mutation point of radius R\n",
    "    start_wt = max(position - radius - 1, 0)\n",
    "    end_wt = min(position + radius, len(wt_seq))\n",
    "    mut_wt_seq = list(wt_seq)\n",
    "    for key, value in mutant_dict.items():\n",
    "        if value == mapped_mutant:\n",
    "            mutant = key\n",
    "            break\n",
    "    mut_wt_seq[position - 1] = wt_seq[position - 1]\n",
    "    mut_wt_seq = ''.join(mut_wt_seq)\n",
    "    wt_sequence = mut_wt_seq[start_wt:end_wt]\n",
    "\n",
    "    # Print the mutation sequence around the mutation point of radius R\n",
    "    start_mut = max(position - radius - 1, 0)\n",
    "    end_mut = min(position + radius, len(wt_seq))\n",
    "    mut_seq = list(wt_seq)\n",
    "    mut_seq[position - 1] = mapped_mutant[-1]\n",
    "    mut_seq = ''.join(mut_seq)\n",
    "    mutated_seq = mut_seq[start_mut:end_mut]\n",
    "\n",
    "    #print(f\"Wild-type sequence around position {position} with a radius of {radius}:\")\n",
    "    #print(f\">{mutant}\\n{wt_sequence}\")\n",
    "\n",
    "    #print(f\"Mutation sequence around position {position} with a radius of {radius}:\")\n",
    "    print(f\">{mutant}\\n{mutated_seq}\")\n",
    "\n",
    "# Example usage\n",
    "wt_seq = 'MKMPEKHDLLAAILAAKEQGIGAILAFAMAYLRGRYNGGAFTKTVIDATMCAIIAWFIRDLLDFAGLSSNLAYITSVFIGYIGTDSIGSLIKRFAAKKAGVEDGRNQ'\n",
    "radius = 8\n",
    "mutant_dict = {\n",
    "    \"JJD246\": \"H7D\",\n",
    "    \"JJD248\": \"F94C\",\n",
    "    \"JJD251\": \"A99V\",\n",
    "    \"JJD253\": \"L10M\",\n",
    "    \"JJD404\": \"I21V\",\n",
    "    \"JJD405\": \"V45G\",\n",
    "    \"JJD411\": \"D85G\",\n",
    "    \"JJD413\": \"I87L\",\n",
    "    \"JJD414\": \"L90I\",\n",
    "    \"JJD415\": \"I91T\",\n",
    "    \"JJD426\": \"G38S\",\n",
    "    \"JJD428\": \"G39S\",\n",
    "    \"JJD432\": \"S89W\",\n",
    "    \"JJD434\": \"D8G\",\n",
    "    \"JJD436\": \"K92N\",\n",
    "}\n",
    "\n",
    "for mutant in mutant_dict.values():\n",
    "    generate_holin_mutants(wt_seq, mutant, radius, mutant_dict)\n"
   ]
  },
  {
   "cell_type": "code",
   "execution_count": null,
   "id": "bbfdcefa",
   "metadata": {},
   "outputs": [],
   "source": []
  }
 ],
 "metadata": {
  "kernelspec": {
   "display_name": "Python 3 (ipykernel)",
   "language": "python",
   "name": "python3"
  },
  "language_info": {
   "codemirror_mode": {
    "name": "ipython",
    "version": 3
   },
   "file_extension": ".py",
   "mimetype": "text/x-python",
   "name": "python",
   "nbconvert_exporter": "python",
   "pygments_lexer": "ipython3",
   "version": "3.11.4"
  }
 },
 "nbformat": 4,
 "nbformat_minor": 5
}
